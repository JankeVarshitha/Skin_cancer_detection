{
 "cells": [
  {
   "cell_type": "code",
   "execution_count": 1,
   "metadata": {},
   "outputs": [],
   "source": [
    "import torch\n",
    "import torch.nn as nn\n",
    "import torch.optim as optim\n",
    "from torch.utils.data import DataLoader, TensorDataset, Subset\n",
    "from sklearn.metrics import recall_score\n",
    "import numpy as np\n",
    "import random\n",
    "\n",
    "# Data loading from folders\n",
    "from torchvision import datasets, transforms\n",
    "from torch.utils.data import DataLoader\n",
    "import matplotlib.pyplot as plt"
   ]
  },
  {
   "cell_type": "code",
   "execution_count": 2,
   "metadata": {},
   "outputs": [],
   "source": [
    "class FocalLoss(nn.Module):\n",
    "    def __init__(self, alpha=0.99, gamma=2.0):\n",
    "        super(FocalLoss, self).__init__()\n",
    "        self.alpha = alpha\n",
    "        self.gamma = gamma\n",
    "        \n",
    "    def forward(self, inputs, targets):\n",
    "        bce_loss = nn.functional.binary_cross_entropy_with_logits(inputs, targets, reduction='none')\n",
    "        pt = torch.exp(-bce_loss)\n",
    "        focal_loss = self.alpha * (1 - pt) ** self.gamma * bce_loss\n",
    "        return focal_loss.mean()"
   ]
  },
  {
   "cell_type": "code",
   "execution_count": 2,
   "metadata": {},
   "outputs": [],
   "source": [
    "import os\n",
    "\n",
    "def count_files_in_folders(start_path):\n",
    "    \"\"\"\n",
    "    Counts the number of files in each folder and its subfolders\n",
    "    within a given starting path.\n",
    "\n",
    "    Args:\n",
    "        start_path (str): The root directory to start counting from.\n",
    "\n",
    "    Returns:\n",
    "        dict: A dictionary where keys are folder paths and values are\n",
    "              the count of files within that folder (excluding files in subfolders).\n",
    "    \"\"\"\n",
    "    file_counts = {}\n",
    "    for root, dirs, files in os.walk(start_path):\n",
    "        # Count files directly within the current 'root' directory\n",
    "        file_counts[root] = len(files)\n",
    "    return file_counts\n",
    "\n",
    "# Example usage:\n",
    "directory_to_scan = \"/path/to/your/directory\"  # Replace with your desired path\n",
    "counts = count_files_in_folders(directory_to_scan)\n",
    "\n",
    "for folder, count in counts.items():\n",
    "    print(f\"Folder: {folder}, Files: {count}\")"
   ]
  },
  {
   "cell_type": "code",
   "execution_count": 4,
   "metadata": {},
   "outputs": [
    {
     "data": {
      "text/plain": [
       "{'skin_cancer_test': 0,\n",
       " 'skin_cancer_test/benign': 110,\n",
       " 'skin_cancer_test/malignant': 90}"
      ]
     },
     "execution_count": 4,
     "metadata": {},
     "output_type": "execute_result"
    }
   ],
   "source": [
    "count_files_in_folders('skin_cancer_test')"
   ]
  },
  {
   "cell_type": "code",
   "execution_count": 3,
   "metadata": {},
   "outputs": [
    {
     "data": {
      "text/plain": [
       "{'skin_cancer_train': 0,\n",
       " 'skin_cancer_train/benign': 305,\n",
       " 'skin_cancer_train/malignant': 294}"
      ]
     },
     "execution_count": 3,
     "metadata": {},
     "output_type": "execute_result"
    }
   ],
   "source": [
    "count_files_in_folders('skin_cancer_train')"
   ]
  },
  {
   "cell_type": "code",
   "execution_count": 6,
   "metadata": {},
   "outputs": [
    {
     "data": {
      "text/plain": [
       "{'skin_cancer_val': 0,\n",
       " 'skin_cancer_val/benign': 110,\n",
       " 'skin_cancer_val/malignant': 90}"
      ]
     },
     "execution_count": 6,
     "metadata": {},
     "output_type": "execute_result"
    }
   ],
   "source": [
    "count_files_in_folders('skin_cancer_val')"
   ]
  },
  {
   "cell_type": "code",
   "execution_count": 7,
   "metadata": {},
   "outputs": [
    {
     "data": {
      "text/plain": [
       "9411"
      ]
     },
     "execution_count": 7,
     "metadata": {},
     "output_type": "execute_result"
    }
   ],
   "source": [
    "9705 - 294"
   ]
  },
  {
   "cell_type": "code",
   "execution_count": 8,
   "metadata": {},
   "outputs": [
    {
     "data": {
      "text/plain": [
       "10000"
      ]
     },
     "execution_count": 8,
     "metadata": {},
     "output_type": "execute_result"
    }
   ],
   "source": [
    "9706 + 294"
   ]
  },
  {
   "cell_type": "code",
   "execution_count": null,
   "metadata": {},
   "outputs": [],
   "source": []
  },
  {
   "cell_type": "code",
   "execution_count": 9,
   "metadata": {},
   "outputs": [],
   "source": [
    "class SkinCancerClassification(nn.Module):\n",
    "    def __init__(self):\n",
    "        super(SkinCancerClassification, self).__init__()\n",
    "        self.conv1 = nn.Conv2d(3, 32, kernel_size=3, padding=1)\n",
    "        self.pool1 = nn.MaxPool2d(2, 2)\n",
    "\n",
    "        self.conv2 = nn.Conv2d(32, 64, kernel_size=3, padding=1)\n",
    "        self.pool2 = nn.MaxPool2d(2, 2)\n",
    "\n",
    "        # self.conv3 = nn.Conv2d(64, 64, kernel_size=3, padding=1)\n",
    "        # self.pool3 = nn.MaxPool2d(2, 2)\n",
    "\n",
    "        # self.conv4 = nn.Conv2d(64, 64, kernel_size=3, padding=1)\n",
    "        # self.pool4 = nn.MaxPool2d(2, 2)\n",
    "\n",
    "        self.fc1 = nn.Linear(16384, 64)\n",
    "        self.fc2 = nn.Linear(64, 1)\n",
    "\n",
    "        self.relu = nn.ReLU()\n",
    "        self.dp = nn.Dropout(0.5)\n",
    "\n",
    "    def forward(self, x):\n",
    "        x = self.pool1(self.relu(self.conv1(x)))\n",
    "        x = self.pool2(self.relu(self.conv2(x)))\n",
    "        # x = self.pool3(self.relu(self.conv3(x)))\n",
    "        # x = self.pool4(self.relu(self.conv4(x)))\n",
    "        x = x.view(x.size(0), -1)\n",
    "        x = self.relu(self.fc1(x))\n",
    "        x = self.dp(x)\n",
    "        x = self.fc2(x)\n",
    "        return x\n",
    "# mat1 and mat2 shapes cannot be multiplied (32x32768 and 16384x64)"
   ]
  },
  {
   "cell_type": "code",
   "execution_count": 10,
   "metadata": {},
   "outputs": [],
   "source": [
    "from pathlib import Path"
   ]
  },
  {
   "cell_type": "code",
   "execution_count": 11,
   "metadata": {},
   "outputs": [
    {
     "ename": "ValueError",
     "evalue": "Sample larger than population or is negative",
     "output_type": "error",
     "traceback": [
      "\u001b[0;31m---------------------------------------------------------------------------\u001b[0m",
      "\u001b[0;31mValueError\u001b[0m                                Traceback (most recent call last)",
      "Cell \u001b[0;32mIn[11], line 5\u001b[0m\n\u001b[1;32m      2\u001b[0m folder \u001b[38;5;241m=\u001b[39m Path(\u001b[38;5;124m'\u001b[39m\u001b[38;5;124mskin_cancer_val/benign\u001b[39m\u001b[38;5;124m'\u001b[39m)\n\u001b[1;32m      4\u001b[0m files \u001b[38;5;241m=\u001b[39m [f \u001b[38;5;28;01mfor\u001b[39;00m f \u001b[38;5;129;01min\u001b[39;00m folder\u001b[38;5;241m.\u001b[39miterdir() \u001b[38;5;28;01mif\u001b[39;00m f\u001b[38;5;241m.\u001b[39mis_file()]\n\u001b[0;32m----> 5\u001b[0m files_to_delete \u001b[38;5;241m=\u001b[39m \u001b[43mrandom\u001b[49m\u001b[38;5;241;43m.\u001b[39;49m\u001b[43msample\u001b[49m\u001b[43m(\u001b[49m\u001b[43mfiles\u001b[49m\u001b[43m,\u001b[49m\u001b[43m \u001b[49m\u001b[43mfiles_to_delete_count\u001b[49m\u001b[43m)\u001b[49m\n",
      "File \u001b[0;32m/home/zeus/miniconda3/envs/cloudspace/lib/python3.10/random.py:482\u001b[0m, in \u001b[0;36mRandom.sample\u001b[0;34m(self, population, k, counts)\u001b[0m\n\u001b[1;32m    480\u001b[0m randbelow \u001b[38;5;241m=\u001b[39m \u001b[38;5;28mself\u001b[39m\u001b[38;5;241m.\u001b[39m_randbelow\n\u001b[1;32m    481\u001b[0m \u001b[38;5;28;01mif\u001b[39;00m \u001b[38;5;129;01mnot\u001b[39;00m \u001b[38;5;241m0\u001b[39m \u001b[38;5;241m<\u001b[39m\u001b[38;5;241m=\u001b[39m k \u001b[38;5;241m<\u001b[39m\u001b[38;5;241m=\u001b[39m n:\n\u001b[0;32m--> 482\u001b[0m     \u001b[38;5;28;01mraise\u001b[39;00m \u001b[38;5;167;01mValueError\u001b[39;00m(\u001b[38;5;124m\"\u001b[39m\u001b[38;5;124mSample larger than population or is negative\u001b[39m\u001b[38;5;124m\"\u001b[39m)\n\u001b[1;32m    483\u001b[0m result \u001b[38;5;241m=\u001b[39m [\u001b[38;5;28;01mNone\u001b[39;00m] \u001b[38;5;241m*\u001b[39m k\n\u001b[1;32m    484\u001b[0m setsize \u001b[38;5;241m=\u001b[39m \u001b[38;5;241m21\u001b[39m        \u001b[38;5;66;03m# size of a small set minus size of an empty list\u001b[39;00m\n",
      "\u001b[0;31mValueError\u001b[0m: Sample larger than population or is negative"
     ]
    }
   ],
   "source": [
    "files_to_delete_count = 800\n",
    "folder = Path('skin_cancer_val/benign')\n",
    "\n",
    "files = [f for f in folder.iterdir() if f.is_file()]\n",
    "files_to_delete = random.sample(files, files_to_delete_count)"
   ]
  },
  {
   "cell_type": "code",
   "execution_count": 36,
   "metadata": {},
   "outputs": [],
   "source": [
    "for file_path in files_to_delete:\n",
    "    # print(f\"  - {file_path.name}\")\n",
    "    file_path.unlink()  \n"
   ]
  },
  {
   "cell_type": "code",
   "execution_count": 19,
   "metadata": {},
   "outputs": [],
   "source": [
    "def get_data_loaders(train_dir='skin_cancer_train', val_dir='skin_cancer_val', test_dir='skin_cancer_test'):\n",
    "\n",
    "    transform = transforms.Compose([\n",
    "        transforms.Resize((64, 64)),\n",
    "        transforms.ToTensor(),\n",
    "        transforms.Normalize(mean=[0.485, 0.456, 0.406], std=[0.229, 0.224, 0.225])\n",
    "    ])\n",
    "    \n",
    "    \n",
    "    train_dataset = datasets.ImageFolder(train_dir, transform=transform)\n",
    "\n",
    "    val_dataset = datasets.ImageFolder(val_dir, transform=transform)\n",
    "    test_dataset = datasets.ImageFolder(test_dir, transform=transform)\n",
    "    \n",
    "    train_loader = DataLoader(train_dataset, batch_size=32, shuffle=True)\n",
    "    val_loader = DataLoader(val_dataset, batch_size=32, shuffle=False)\n",
    "    test_loader = DataLoader(test_dataset, batch_size=32, shuffle=False)\n",
    "    \n",
    "    print(f\"Train samples: {len(train_dataset)}\")\n",
    "    print(f\"Validation samples: {len(val_dataset)}\")\n",
    "    print(f\"Test samples: {len(test_dataset)}\")\n",
    "    print(f\"Classes: {train_dataset.classes}\")\n",
    "    \n",
    "    return train_loader, val_loader, test_loader"
   ]
  },
  {
   "cell_type": "code",
   "execution_count": 20,
   "metadata": {},
   "outputs": [
    {
     "name": "stdout",
     "output_type": "stream",
     "text": [
      "Using device: cuda\n"
     ]
    }
   ],
   "source": [
    "device = torch.device('cuda' if torch.cuda.is_available() else 'cpu')\n",
    "print(f\"Using device: {device}\")"
   ]
  },
  {
   "cell_type": "code",
   "execution_count": 21,
   "metadata": {},
   "outputs": [
    {
     "name": "stdout",
     "output_type": "stream",
     "text": [
      "Train samples: 599\n",
      "Validation samples: 200\n",
      "Test samples: 200\n",
      "Classes: ['benign', 'malignant']\n"
     ]
    }
   ],
   "source": [
    "train_dir='skin_cancer_train'\n",
    "val_dir='skin_cancer_val'\n",
    "test_dir='skin_cancer_test'\n",
    "\n",
    "train_loader, val_loader, test_loader = get_data_loaders(train_dir, val_dir, test_dir)\n"
   ]
  },
  {
   "cell_type": "code",
   "execution_count": null,
   "metadata": {},
   "outputs": [],
   "source": []
  },
  {
   "cell_type": "code",
   "execution_count": 22,
   "metadata": {},
   "outputs": [],
   "source": [
    "model = SkinCancerClassification().to(device)\n",
    "criterion = FocalLoss(alpha=0.25, gamma=2.0)\n",
    "optimizer = optim.Adam(model.parameters(), lr=0.001)"
   ]
  },
  {
   "cell_type": "code",
   "execution_count": 23,
   "metadata": {},
   "outputs": [],
   "source": [
    "train_losses = []\n",
    "val_losses = []\n",
    "train_recalls = []\n",
    "val_recalls = []"
   ]
  },
  {
   "cell_type": "code",
   "execution_count": 24,
   "metadata": {},
   "outputs": [
    {
     "name": "stdout",
     "output_type": "stream",
     "text": [
      "Epoch 1/100:\n",
      "  Train Loss: 0.0614\n",
      "  Val Loss: 0.0425\n",
      "  Recall: 0.3889\n",
      "------------------------------\n",
      "Epoch 2/100:\n",
      "  Train Loss: 0.0422\n",
      "  Val Loss: 0.0393\n",
      "  Recall: 0.8778\n",
      "------------------------------\n",
      "Epoch 3/100:\n",
      "  Train Loss: 0.0397\n",
      "  Val Loss: 0.0372\n",
      "  Recall: 0.9444\n",
      "------------------------------\n",
      "Epoch 4/100:\n",
      "  Train Loss: 0.0379\n",
      "  Val Loss: 0.0348\n",
      "  Recall: 0.8000\n",
      "------------------------------\n",
      "Epoch 5/100:\n",
      "  Train Loss: 0.0370\n",
      "  Val Loss: 0.0304\n",
      "  Recall: 0.8667\n",
      "------------------------------\n",
      "Epoch 6/100:\n",
      "  Train Loss: 0.0361\n",
      "  Val Loss: 0.0290\n",
      "  Recall: 0.8889\n",
      "------------------------------\n",
      "Epoch 7/100:\n",
      "  Train Loss: 0.0348\n",
      "  Val Loss: 0.0296\n",
      "  Recall: 0.7444\n",
      "------------------------------\n",
      "Epoch 8/100:\n",
      "  Train Loss: 0.0326\n",
      "  Val Loss: 0.0270\n",
      "  Recall: 0.7778\n",
      "------------------------------\n",
      "Epoch 9/100:\n",
      "  Train Loss: 0.0321\n",
      "  Val Loss: 0.0300\n",
      "  Recall: 0.7778\n",
      "------------------------------\n",
      "Epoch 10/100:\n",
      "  Train Loss: 0.0315\n",
      "  Val Loss: 0.0249\n",
      "  Recall: 0.8333\n",
      "------------------------------\n",
      "Epoch 11/100:\n",
      "  Train Loss: 0.0306\n",
      "  Val Loss: 0.0256\n",
      "  Recall: 0.7556\n",
      "------------------------------\n",
      "Epoch 12/100:\n",
      "  Train Loss: 0.0300\n",
      "  Val Loss: 0.0240\n",
      "  Recall: 0.8000\n",
      "------------------------------\n",
      "Epoch 13/100:\n",
      "  Train Loss: 0.0280\n",
      "  Val Loss: 0.0251\n",
      "  Recall: 0.8000\n",
      "------------------------------\n",
      "Epoch 14/100:\n",
      "  Train Loss: 0.0291\n",
      "  Val Loss: 0.0232\n",
      "  Recall: 0.7889\n",
      "------------------------------\n",
      "Epoch 15/100:\n",
      "  Train Loss: 0.0281\n",
      "  Val Loss: 0.0225\n",
      "  Recall: 0.8222\n",
      "------------------------------\n",
      "Epoch 16/100:\n",
      "  Train Loss: 0.0284\n",
      "  Val Loss: 0.0248\n",
      "  Recall: 0.9222\n",
      "------------------------------\n",
      "Epoch 17/100:\n",
      "  Train Loss: 0.0265\n",
      "  Val Loss: 0.0232\n",
      "  Recall: 0.8889\n",
      "------------------------------\n",
      "Epoch 18/100:\n",
      "  Train Loss: 0.0261\n",
      "  Val Loss: 0.0251\n",
      "  Recall: 0.8556\n",
      "------------------------------\n",
      "Epoch 19/100:\n",
      "  Train Loss: 0.0265\n",
      "  Val Loss: 0.0218\n",
      "  Recall: 0.8667\n",
      "------------------------------\n",
      "Epoch 20/100:\n",
      "  Train Loss: 0.0253\n",
      "  Val Loss: 0.0226\n",
      "  Recall: 0.8444\n",
      "------------------------------\n",
      "Epoch 21/100:\n",
      "  Train Loss: 0.0238\n",
      "  Val Loss: 0.0236\n",
      "  Recall: 0.9111\n",
      "------------------------------\n",
      "Epoch 22/100:\n",
      "  Train Loss: 0.0234\n",
      "  Val Loss: 0.0210\n",
      "  Recall: 0.9222\n",
      "------------------------------\n",
      "Epoch 23/100:\n",
      "  Train Loss: 0.0226\n",
      "  Val Loss: 0.0233\n",
      "  Recall: 0.9333\n",
      "------------------------------\n",
      "Epoch 24/100:\n",
      "  Train Loss: 0.0211\n",
      "  Val Loss: 0.0229\n",
      "  Recall: 0.9000\n",
      "------------------------------\n",
      "Epoch 25/100:\n",
      "  Train Loss: 0.0201\n",
      "  Val Loss: 0.0249\n",
      "  Recall: 0.9222\n",
      "------------------------------\n",
      "Epoch 26/100:\n",
      "  Train Loss: 0.0194\n",
      "  Val Loss: 0.0203\n",
      "  Recall: 0.8556\n",
      "------------------------------\n",
      "Epoch 27/100:\n",
      "  Train Loss: 0.0198\n",
      "  Val Loss: 0.0213\n",
      "  Recall: 0.9556\n",
      "------------------------------\n",
      "Epoch 28/100:\n",
      "  Train Loss: 0.0173\n",
      "  Val Loss: 0.0215\n",
      "  Recall: 0.9000\n",
      "------------------------------\n",
      "Epoch 29/100:\n",
      "  Train Loss: 0.0163\n",
      "  Val Loss: 0.0224\n",
      "  Recall: 0.9111\n",
      "------------------------------\n",
      "Epoch 30/100:\n",
      "  Train Loss: 0.0143\n",
      "  Val Loss: 0.0319\n",
      "  Recall: 0.9778\n",
      "------------------------------\n",
      "Epoch 31/100:\n",
      "  Train Loss: 0.0126\n",
      "  Val Loss: 0.0234\n",
      "  Recall: 0.9444\n",
      "------------------------------\n",
      "Epoch 32/100:\n",
      "  Train Loss: 0.0146\n",
      "  Val Loss: 0.0300\n",
      "  Recall: 0.9667\n",
      "------------------------------\n",
      "Epoch 33/100:\n",
      "  Train Loss: 0.0132\n",
      "  Val Loss: 0.0259\n",
      "  Recall: 0.9333\n",
      "------------------------------\n",
      "Epoch 34/100:\n",
      "  Train Loss: 0.0116\n",
      "  Val Loss: 0.0324\n",
      "  Recall: 0.9667\n",
      "------------------------------\n",
      "Epoch 35/100:\n",
      "  Train Loss: 0.0114\n",
      "  Val Loss: 0.0355\n",
      "  Recall: 0.9556\n",
      "------------------------------\n",
      "Epoch 36/100:\n",
      "  Train Loss: 0.0118\n",
      "  Val Loss: 0.0363\n",
      "  Recall: 0.9667\n",
      "------------------------------\n",
      "Epoch 37/100:\n",
      "  Train Loss: 0.0095\n",
      "  Val Loss: 0.0346\n",
      "  Recall: 0.9778\n",
      "------------------------------\n",
      "Epoch 38/100:\n",
      "  Train Loss: 0.0075\n",
      "  Val Loss: 0.0383\n",
      "  Recall: 0.9778\n",
      "------------------------------\n",
      "Epoch 39/100:\n",
      "  Train Loss: 0.0086\n",
      "  Val Loss: 0.0346\n",
      "  Recall: 0.9556\n",
      "------------------------------\n",
      "Epoch 40/100:\n",
      "  Train Loss: 0.0085\n",
      "  Val Loss: 0.0386\n",
      "  Recall: 0.9667\n",
      "------------------------------\n",
      "Epoch 41/100:\n",
      "  Train Loss: 0.0070\n",
      "  Val Loss: 0.0375\n",
      "  Recall: 0.9667\n",
      "------------------------------\n",
      "Epoch 42/100:\n",
      "  Train Loss: 0.0055\n",
      "  Val Loss: 0.0389\n",
      "  Recall: 0.9667\n",
      "------------------------------\n",
      "Epoch 43/100:\n",
      "  Train Loss: 0.0057\n",
      "  Val Loss: 0.0314\n",
      "  Recall: 0.9556\n",
      "------------------------------\n",
      "Epoch 44/100:\n",
      "  Train Loss: 0.0048\n",
      "  Val Loss: 0.0412\n",
      "  Recall: 0.9889\n",
      "------------------------------\n",
      "Epoch 45/100:\n",
      "  Train Loss: 0.0050\n",
      "  Val Loss: 0.0514\n",
      "  Recall: 0.9889\n",
      "------------------------------\n",
      "Epoch 46/100:\n",
      "  Train Loss: 0.0052\n",
      "  Val Loss: 0.0431\n",
      "  Recall: 0.9889\n",
      "------------------------------\n",
      "Epoch 47/100:\n",
      "  Train Loss: 0.0048\n",
      "  Val Loss: 0.0368\n",
      "  Recall: 0.9778\n",
      "------------------------------\n",
      "Epoch 48/100:\n",
      "  Train Loss: 0.0047\n",
      "  Val Loss: 0.0508\n",
      "  Recall: 0.9778\n",
      "------------------------------\n",
      "Epoch 49/100:\n",
      "  Train Loss: 0.0043\n",
      "  Val Loss: 0.0430\n",
      "  Recall: 0.9889\n",
      "------------------------------\n",
      "Epoch 50/100:\n",
      "  Train Loss: 0.0028\n",
      "  Val Loss: 0.0390\n",
      "  Recall: 0.9444\n",
      "------------------------------\n",
      "Epoch 51/100:\n",
      "  Train Loss: 0.0025\n",
      "  Val Loss: 0.0373\n",
      "  Recall: 0.9778\n",
      "------------------------------\n",
      "Epoch 52/100:\n",
      "  Train Loss: 0.0031\n",
      "  Val Loss: 0.0355\n",
      "  Recall: 0.9556\n",
      "------------------------------\n",
      "Epoch 53/100:\n",
      "  Train Loss: 0.0028\n",
      "  Val Loss: 0.0503\n",
      "  Recall: 0.9889\n",
      "------------------------------\n",
      "Epoch 54/100:\n",
      "  Train Loss: 0.0037\n",
      "  Val Loss: 0.0410\n",
      "  Recall: 0.9778\n",
      "------------------------------\n",
      "Epoch 55/100:\n",
      "  Train Loss: 0.0049\n",
      "  Val Loss: 0.0321\n",
      "  Recall: 0.9778\n",
      "------------------------------\n",
      "Epoch 56/100:\n",
      "  Train Loss: 0.0042\n",
      "  Val Loss: 0.0398\n",
      "  Recall: 0.9778\n",
      "------------------------------\n",
      "Epoch 57/100:\n",
      "  Train Loss: 0.0023\n",
      "  Val Loss: 0.0430\n",
      "  Recall: 0.9778\n",
      "------------------------------\n",
      "Epoch 58/100:\n",
      "  Train Loss: 0.0026\n",
      "  Val Loss: 0.0379\n",
      "  Recall: 0.9778\n",
      "------------------------------\n",
      "Epoch 59/100:\n",
      "  Train Loss: 0.0025\n",
      "  Val Loss: 0.0472\n",
      "  Recall: 0.9667\n",
      "------------------------------\n",
      "Epoch 60/100:\n",
      "  Train Loss: 0.0034\n",
      "  Val Loss: 0.0455\n",
      "  Recall: 0.9778\n",
      "------------------------------\n",
      "Epoch 61/100:\n",
      "  Train Loss: 0.0019\n",
      "  Val Loss: 0.0681\n",
      "  Recall: 0.9889\n",
      "------------------------------\n",
      "Epoch 62/100:\n",
      "  Train Loss: 0.0023\n",
      "  Val Loss: 0.0572\n",
      "  Recall: 0.9889\n",
      "------------------------------\n",
      "Epoch 63/100:\n",
      "  Train Loss: 0.0021\n",
      "  Val Loss: 0.0399\n",
      "  Recall: 0.9556\n",
      "------------------------------\n",
      "Epoch 64/100:\n",
      "  Train Loss: 0.0016\n",
      "  Val Loss: 0.0560\n",
      "  Recall: 0.9778\n",
      "------------------------------\n",
      "Epoch 65/100:\n",
      "  Train Loss: 0.0017\n",
      "  Val Loss: 0.0532\n",
      "  Recall: 0.9778\n",
      "------------------------------\n",
      "Epoch 66/100:\n",
      "  Train Loss: 0.0010\n",
      "  Val Loss: 0.0531\n",
      "  Recall: 0.9778\n",
      "------------------------------\n",
      "Epoch 67/100:\n",
      "  Train Loss: 0.0009\n",
      "  Val Loss: 0.0583\n",
      "  Recall: 0.9778\n",
      "------------------------------\n",
      "Epoch 68/100:\n",
      "  Train Loss: 0.0011\n",
      "  Val Loss: 0.0634\n",
      "  Recall: 0.9778\n",
      "------------------------------\n",
      "Epoch 69/100:\n",
      "  Train Loss: 0.0008\n",
      "  Val Loss: 0.0713\n",
      "  Recall: 0.9778\n",
      "------------------------------\n",
      "Epoch 70/100:\n",
      "  Train Loss: 0.0013\n",
      "  Val Loss: 0.0787\n",
      "  Recall: 0.9778\n",
      "------------------------------\n",
      "Epoch 71/100:\n",
      "  Train Loss: 0.0014\n",
      "  Val Loss: 0.0587\n",
      "  Recall: 0.9778\n",
      "------------------------------\n",
      "Epoch 72/100:\n",
      "  Train Loss: 0.0013\n",
      "  Val Loss: 0.0614\n",
      "  Recall: 0.9778\n",
      "------------------------------\n",
      "Epoch 73/100:\n",
      "  Train Loss: 0.0010\n",
      "  Val Loss: 0.0570\n",
      "  Recall: 0.9778\n",
      "------------------------------\n",
      "Epoch 74/100:\n",
      "  Train Loss: 0.0009\n",
      "  Val Loss: 0.0681\n",
      "  Recall: 0.9778\n",
      "------------------------------\n",
      "Epoch 75/100:\n",
      "  Train Loss: 0.0010\n",
      "  Val Loss: 0.0693\n",
      "  Recall: 0.9778\n",
      "------------------------------\n",
      "Epoch 76/100:\n",
      "  Train Loss: 0.0009\n",
      "  Val Loss: 0.0621\n",
      "  Recall: 0.9778\n",
      "------------------------------\n",
      "Epoch 77/100:\n",
      "  Train Loss: 0.0012\n",
      "  Val Loss: 0.0534\n",
      "  Recall: 0.9778\n",
      "------------------------------\n",
      "Epoch 78/100:\n",
      "  Train Loss: 0.0010\n",
      "  Val Loss: 0.0627\n",
      "  Recall: 0.9778\n",
      "------------------------------\n",
      "Epoch 79/100:\n",
      "  Train Loss: 0.0011\n",
      "  Val Loss: 0.0592\n",
      "  Recall: 0.9778\n",
      "------------------------------\n",
      "Epoch 80/100:\n",
      "  Train Loss: 0.0029\n",
      "  Val Loss: 0.0623\n",
      "  Recall: 0.9889\n",
      "------------------------------\n",
      "Epoch 81/100:\n",
      "  Train Loss: 0.0019\n",
      "  Val Loss: 0.0599\n",
      "  Recall: 0.9778\n",
      "------------------------------\n",
      "Epoch 82/100:\n",
      "  Train Loss: 0.0015\n",
      "  Val Loss: 0.0900\n",
      "  Recall: 0.9889\n",
      "------------------------------\n",
      "Epoch 83/100:\n",
      "  Train Loss: 0.0011\n",
      "  Val Loss: 0.0687\n",
      "  Recall: 0.9778\n",
      "------------------------------\n",
      "Epoch 84/100:\n",
      "  Train Loss: 0.0012\n",
      "  Val Loss: 0.0683\n",
      "  Recall: 0.9667\n",
      "------------------------------\n",
      "Epoch 85/100:\n",
      "  Train Loss: 0.0009\n",
      "  Val Loss: 0.0865\n",
      "  Recall: 0.9778\n",
      "------------------------------\n",
      "Epoch 86/100:\n",
      "  Train Loss: 0.0007\n",
      "  Val Loss: 0.0906\n",
      "  Recall: 0.9778\n",
      "------------------------------\n",
      "Epoch 87/100:\n",
      "  Train Loss: 0.0015\n",
      "  Val Loss: 0.0905\n",
      "  Recall: 0.9778\n",
      "------------------------------\n",
      "Epoch 88/100:\n",
      "  Train Loss: 0.0019\n",
      "  Val Loss: 0.0581\n",
      "  Recall: 0.9778\n",
      "------------------------------\n",
      "Epoch 89/100:\n",
      "  Train Loss: 0.0011\n",
      "  Val Loss: 0.0893\n",
      "  Recall: 0.9778\n",
      "------------------------------\n",
      "Epoch 90/100:\n",
      "  Train Loss: 0.0009\n",
      "  Val Loss: 0.0927\n",
      "  Recall: 0.9778\n",
      "------------------------------\n",
      "Epoch 91/100:\n",
      "  Train Loss: 0.0007\n",
      "  Val Loss: 0.0765\n",
      "  Recall: 0.9778\n",
      "------------------------------\n",
      "Epoch 92/100:\n",
      "  Train Loss: 0.0007\n",
      "  Val Loss: 0.0780\n",
      "  Recall: 0.9778\n",
      "------------------------------\n",
      "Epoch 93/100:\n",
      "  Train Loss: 0.0004\n",
      "  Val Loss: 0.0896\n",
      "  Recall: 0.9778\n",
      "------------------------------\n",
      "Epoch 94/100:\n",
      "  Train Loss: 0.0005\n",
      "  Val Loss: 0.0870\n",
      "  Recall: 0.9778\n",
      "------------------------------\n",
      "Epoch 95/100:\n",
      "  Train Loss: 0.0004\n",
      "  Val Loss: 0.0928\n",
      "  Recall: 0.9778\n",
      "------------------------------\n",
      "Epoch 96/100:\n",
      "  Train Loss: 0.0009\n",
      "  Val Loss: 0.0911\n",
      "  Recall: 0.9778\n",
      "------------------------------\n",
      "Epoch 97/100:\n",
      "  Train Loss: 0.0006\n",
      "  Val Loss: 0.0848\n",
      "  Recall: 0.9778\n",
      "------------------------------\n",
      "Epoch 98/100:\n",
      "  Train Loss: 0.0006\n",
      "  Val Loss: 0.0881\n",
      "  Recall: 0.9778\n",
      "------------------------------\n",
      "Epoch 99/100:\n",
      "  Train Loss: 0.0007\n",
      "  Val Loss: 0.0895\n",
      "  Recall: 0.9778\n",
      "------------------------------\n",
      "Epoch 100/100:\n",
      "  Train Loss: 0.0009\n",
      "  Val Loss: 0.0861\n",
      "  Recall: 0.9778\n",
      "------------------------------\n"
     ]
    }
   ],
   "source": [
    "\n",
    "for epoch in range(100):\n",
    "\n",
    "    model.train()\n",
    "    train_loss = 0.0\n",
    "    train_preds = []\n",
    "    train_targets = []\n",
    "    \n",
    "    for batch_X, batch_y in train_loader:\n",
    "        batch_X = batch_X.to(device)\n",
    "        batch_y = batch_y.float().to(device)  \n",
    "        \n",
    "        optimizer.zero_grad()\n",
    "        outputs = model(batch_X)\n",
    "        loss = criterion(outputs, batch_y.unsqueeze(1)) \n",
    "        loss.backward()\n",
    "        optimizer.step()\n",
    "        \n",
    "        train_loss += loss.item()\n",
    "\n",
    "        with torch.no_grad():\n",
    "            preds = torch.sigmoid(outputs) > 0.5\n",
    "            train_preds.extend(preds.cpu().numpy().flatten())\n",
    "            train_targets.extend(batch_y.cpu().numpy())\n",
    "    \n",
    "\n",
    "    model.eval()\n",
    "    val_loss = 0.0\n",
    "    all_preds = []\n",
    "    all_targets = []\n",
    "    \n",
    "    with torch.no_grad():\n",
    "        for batch_X, batch_y in val_loader:\n",
    "            batch_X = batch_X.to(device)\n",
    "            batch_y = batch_y.float().to(device)\n",
    "            outputs = model(batch_X)\n",
    "            loss = criterion(outputs, batch_y.unsqueeze(1))\n",
    "            val_loss += loss.item()\n",
    "            \n",
    "            preds = torch.sigmoid(outputs) > 0.5\n",
    "            all_preds.extend(preds.cpu().numpy().flatten())\n",
    "            all_targets.extend(batch_y.cpu().numpy())\n",
    "    \n",
    "    recall = recall_score(all_targets, all_preds)\n",
    "    \n",
    "    train_recall = recall_score(train_targets, train_preds)\n",
    "    val_recall = recall_score(all_targets, all_preds)\n",
    "    avg_train_loss = train_loss / len(train_loader)\n",
    "    avg_val_loss = val_loss / len(val_loader)\n",
    "    \n",
    "    train_losses.append(avg_train_loss)\n",
    "    val_losses.append(avg_val_loss)\n",
    "    train_recalls.append(train_recall)\n",
    "    val_recalls.append(val_recall)\n",
    "    \n",
    "    print(f\"Epoch {epoch + 1}/100:\")\n",
    "    print(f\"  Train Loss: {avg_train_loss:.4f}\")\n",
    "    print(f\"  Val Loss: {avg_val_loss:.4f}\")\n",
    "    print(f\"  Recall: {recall:.4f}\")\n",
    "    print(\"-\" * 30)\n"
   ]
  },
  {
   "cell_type": "code",
   "execution_count": 25,
   "metadata": {},
   "outputs": [],
   "source": [
    "\n",
    "def plot_learning_curves(train_losses, val_losses, train_recalls, val_recalls):\n",
    "\n",
    "    epochs = range(1, len(train_losses) + 1)\n",
    "    \n",
    "    fig, (ax1, ax2) = plt.subplots(1, 2, figsize=(15, 5))\n",
    "    \n",
    "    ax1.plot(epochs, train_losses, 'b-', label='Training Loss', marker='o')\n",
    "    ax1.plot(epochs, val_losses, 'r-', label='Validation Loss', marker='s')\n",
    "    ax1.set_title('Training vs Validation Loss')\n",
    "    ax1.set_xlabel('Epochs')\n",
    "    ax1.set_ylabel('Loss')\n",
    "    ax1.legend()\n",
    "    ax1.grid(True, alpha=0.3)\n",
    "\n",
    "    ax2.plot(epochs, train_recalls, 'b-', label='Training Recall', marker='o')\n",
    "    ax2.plot(epochs, val_recalls, 'r-', label='Validation Recall', marker='s')\n",
    "    ax2.set_title('Training vs Validation Recall')\n",
    "    ax2.set_xlabel('Epochs')\n",
    "    ax2.set_ylabel('Recall')\n",
    "    ax2.legend()\n",
    "    ax2.grid(True, alpha=0.3)\n",
    "    ax2.set_ylim(0, 1) \n",
    "    \n",
    "    plt.tight_layout()\n",
    "    plt.show()\n",
    "    \n",
    "    print(f\"\\nFinal Training Loss: \", train_losses[-1])\n",
    "    print(f\"Final Validation Loss: \", val_losses[-1])\n",
    "    print(f\"Final Training Recall: \", train_recalls[-1])\n",
    "    print(f\"Final Validation Recall: \", val_recalls[-1])"
   ]
  },
  {
   "cell_type": "code",
   "execution_count": 26,
   "metadata": {},
   "outputs": [
    {
     "data": {
      "image/png": "[encoded data removed]",
      "text/plain": [
       "<Figure size 1500x500 with 2 Axes>"
      ]
     },
     "metadata": {},
     "output_type": "display_data"
    },
    {
     "name": "stdout",
     "output_type": "stream",
     "text": [
      "\n",
      "Final Training Loss:  0.0008725273785928852\n",
      "Final Validation Loss:  0.08609153155287329\n",
      "Final Training Recall:  1.0\n",
      "Final Validation Recall:  0.9777777777777777\n"
     ]
    }
   ],
   "source": [
    "plot_learning_curves(train_losses, val_losses, train_recalls, val_recalls)"
   ]
  },
  {
   "cell_type": "code",
   "execution_count": 27,
   "metadata": {},
   "outputs": [
    {
     "data": {
      "text/plain": [
       "<torch.utils.data.dataloader.DataLoader at 0x7fa5442564a0>"
      ]
     },
     "execution_count": 27,
     "metadata": {},
     "output_type": "execute_result"
    }
   ],
   "source": [
    "test_loader"
   ]
  },
  {
   "cell_type": "code",
   "execution_count": 28,
   "metadata": {},
   "outputs": [],
   "source": [
    "\n",
    "test_loss = 0.0\n",
    "with torch.no_grad():\n",
    "    for batch_X, batch_y in test_loader:\n",
    "        batch_X = batch_X.to(device)\n",
    "        batch_y = batch_y.float().to(device)\n",
    "        outputs = model(batch_X)\n",
    "        loss = criterion(outputs, batch_y.unsqueeze(1))\n",
    "        test_loss += loss.item()\n",
    "        \n",
    "        # Get predictions\n",
    "        preds = torch.sigmoid(outputs) > 0.3\n",
    "        all_preds.extend(preds.cpu().numpy().flatten())\n",
    "        all_targets.extend(batch_y.cpu().numpy())\n"
   ]
  },
  {
   "cell_type": "code",
   "execution_count": 29,
   "metadata": {},
   "outputs": [],
   "source": [
    "# Calculate recall\n",
    "recall = recall_score(all_targets, all_preds)"
   ]
  },
  {
   "cell_type": "code",
   "execution_count": 30,
   "metadata": {},
   "outputs": [
    {
     "data": {
      "text/plain": [
       "0.9611111111111111"
      ]
     },
     "execution_count": 30,
     "metadata": {},
     "output_type": "execute_result"
    }
   ],
   "source": [
    "recall"
   ]
  },
  {
   "cell_type": "code",
   "execution_count": 31,
   "metadata": {},
   "outputs": [
    {
     "data": {
      "text/plain": [
       "10000"
      ]
     },
     "execution_count": 31,
     "metadata": {},
     "output_type": "execute_result"
    }
   ],
   "source": [
    "10000"
   ]
  },
  {
   "cell_type": "code",
   "execution_count": 32,
   "metadata": {},
   "outputs": [],
   "source": [
    "\n",
    "from sklearn.metrics import confusion_matrix, ConfusionMatrixDisplay\n",
    "import matplotlib.pyplot as plt"
   ]
  },
  {
   "cell_type": "code",
   "execution_count": 33,
   "metadata": {},
   "outputs": [],
   "source": [
    "cm = confusion_matrix(all_targets,all_preds)"
   ]
  },
  {
   "cell_type": "code",
   "execution_count": 34,
   "metadata": {},
   "outputs": [
    {
     "data": {
      "image/png": "[encoded data removed]",
      "text/plain": [
       "<Figure size 640x480 with 2 Axes>"
      ]
     },
     "metadata": {},
     "output_type": "display_data"
    }
   ],
   "source": [
    "disp = ConfusionMatrixDisplay(confusion_matrix=cm, display_labels=['benign', 'malignant'])\n",
    "disp.plot(cmap=plt.cm.Blues)\n",
    "plt.title('Confusion Matrix')\n",
    "plt.show()"
   ]
  },
  {
   "cell_type": "code",
   "execution_count": null,
   "metadata": {},
   "outputs": [],
   "source": []
  },
  {
   "cell_type": "code",
   "execution_count": null,
   "metadata": {},
   "outputs": [],
   "source": []
  },
  {
   "cell_type": "code",
   "execution_count": null,
   "metadata": {},
   "outputs": [],
   "source": []
  },
  {
   "cell_type": "code",
   "execution_count": null,
   "metadata": {},
   "outputs": [],
   "source": []
  }
 ],
 "metadata": {
  "language_info": {
   "name": "python"
  }
 },
 "nbformat": 4,
 "nbformat_minor": 2
}
